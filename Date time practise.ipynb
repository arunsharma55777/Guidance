{
 "cells": [
  {
   "cell_type": "markdown",
   "id": "a7e551e4",
   "metadata": {},
   "source": [
    "## Date"
   ]
  },
  {
   "cell_type": "code",
   "execution_count": 1,
   "id": "64ae3afa",
   "metadata": {},
   "outputs": [],
   "source": [
    "from datetime import date"
   ]
  },
  {
   "cell_type": "code",
   "execution_count": 2,
   "id": "f4375dcf",
   "metadata": {},
   "outputs": [
    {
     "name": "stdout",
     "output_type": "stream",
     "text": [
      "2022-11-06\n",
      "11 2022 6\n",
      "6\n"
     ]
    }
   ],
   "source": [
    "d1 = date.today()\n",
    "\n",
    "print(d1)\n",
    "\n",
    "print(d1.month, d1.year, d1.day)\n",
    "\n",
    "print(d1.weekday())"
   ]
  },
  {
   "cell_type": "markdown",
   "id": "4a9e8314",
   "metadata": {},
   "source": [
    "### Comparison, Addition and Subtraction of Date"
   ]
  },
  {
   "cell_type": "markdown",
   "id": "17c6ba04",
   "metadata": {},
   "source": [
    "**** Comparison gives boolean result.\n",
    "\n",
    "**** Date addition and subtraction give result as a datetime.timedelta object.\n",
    "\n",
    "**** The same comparison and add/subtract operation can be used with time objects."
   ]
  },
  {
   "cell_type": "code",
   "execution_count": 8,
   "id": "59f2c451",
   "metadata": {},
   "outputs": [
    {
     "name": "stdout",
     "output_type": "stream",
     "text": [
      "61 days, 0:00:00\n"
     ]
    }
   ],
   "source": [
    "# Examples of above explanation :\n",
    "\n",
    "d2 = date.today()\n",
    "\n",
    "d1 = date(2022, 9, 6)\n",
    "\n",
    "print(d2 - d1)"
   ]
  },
  {
   "cell_type": "code",
   "execution_count": null,
   "id": "4424f259",
   "metadata": {},
   "outputs": [],
   "source": []
  },
  {
   "cell_type": "markdown",
   "id": "a37a4ae1",
   "metadata": {},
   "source": [
    "## Time "
   ]
  },
  {
   "cell_type": "markdown",
   "id": "01d7b3d6",
   "metadata": {},
   "source": [
    "#### Time object has the following attributes, time(hour,  min,  second, micro second, tzinfo)\n",
    "\n",
    "#### Use datetime.time to compare time objects : t1 < t2, if t1 occurs before t2\n",
    "\n",
    "#### Attributes are all optional, so you can just work with hours and minutes if you want.\n",
    "\n",
    "#### daylight savings is handeled by the time.dst() function (if tzinfo is set)"
   ]
  },
  {
   "cell_type": "code",
   "execution_count": 9,
   "id": "18722bb8",
   "metadata": {},
   "outputs": [
    {
     "name": "stdout",
     "output_type": "stream",
     "text": [
      "14:25:36.018625\n"
     ]
    }
   ],
   "source": [
    "from datetime import time \n",
    "\n",
    "t1 = time(14,25,36,18625)\n",
    "\n",
    "print(t1)"
   ]
  },
  {
   "cell_type": "code",
   "execution_count": 10,
   "id": "ef271772",
   "metadata": {},
   "outputs": [
    {
     "name": "stdout",
     "output_type": "stream",
     "text": [
      "02:19:00\n",
      "False\n"
     ]
    }
   ],
   "source": [
    "t2 = time(2,19)\n",
    "\n",
    "print(t2)\n",
    "\n",
    "print(t1<t2)"
   ]
  },
  {
   "cell_type": "code",
   "execution_count": null,
   "id": "4ad4358e",
   "metadata": {},
   "outputs": [],
   "source": []
  },
  {
   "cell_type": "markdown",
   "id": "73bb5eaf",
   "metadata": {},
   "source": [
    "## Datetime :"
   ]
  },
  {
   "cell_type": "markdown",
   "id": "9887923a",
   "metadata": {},
   "source": [
    "### datetime.datetime combines date and time attributes into a datetime object."
   ]
  },
  {
   "cell_type": "markdown",
   "id": "f34fb388",
   "metadata": {},
   "source": [
    "* datetime.datetime(year, month, day, hour, min, sec, microsecond, tzinfo)\n",
    "\n",
    "* datetime.datetime objects can be used as  dictionary keys.\n",
    "\n",
    "* includes function: date(), time()"
   ]
  },
  {
   "cell_type": "code",
   "execution_count": 11,
   "id": "b11b9bb7",
   "metadata": {},
   "outputs": [
    {
     "name": "stdout",
     "output_type": "stream",
     "text": [
      "1941-12-07 07:53:00\n",
      "1941-12-07\n",
      "07:53:00\n"
     ]
    }
   ],
   "source": [
    "from datetime import datetime\n",
    "\n",
    "dt1 = datetime(1941,12,7,7,53)\n",
    "\n",
    "print(dt1)\n",
    "\n",
    "print(dt1.date())\n",
    "\n",
    "print(dt1.time())"
   ]
  },
  {
   "cell_type": "markdown",
   "id": "5dc15ee2",
   "metadata": {},
   "source": [
    "### Use datetime.datetime.now() to get current date and time"
   ]
  },
  {
   "cell_type": "code",
   "execution_count": 15,
   "id": "500da35d",
   "metadata": {},
   "outputs": [
    {
     "name": "stdout",
     "output_type": "stream",
     "text": [
      "2022-11-06 20:49:22.681333\n",
      "------------------------------\n",
      "2022-11-06\n",
      "------------------------------\n",
      "20:49:22.681333\n",
      "------------------------------\n",
      "20 49\n",
      "------------------------------\n",
      "20\n",
      "------------------------------\n",
      "49\n",
      "------------------------------\n",
      "11-6-2022\n"
     ]
    }
   ],
   "source": [
    "from datetime import datetime\n",
    "\n",
    "dt3 = datetime.now()\n",
    "\n",
    "print(dt3)\n",
    "print('-'* 30)\n",
    "\n",
    "print(dt3.date())\n",
    "print('-'* 30)\n",
    "\n",
    "print(dt3.time())\n",
    "print('-'* 30)\n",
    "\n",
    "print(dt3.hour, dt3.minute)\n",
    "print('-'* 30)\n",
    "\n",
    "print(dt3.hour)\n",
    "print('-'* 30)\n",
    "\n",
    "print(dt3.minute)\n",
    "print('-'* 30)\n",
    "\n",
    "print(str(dt3.month) + '-' + str(dt3.day) + '-' + str(dt3.year))"
   ]
  },
  {
   "cell_type": "code",
   "execution_count": null,
   "id": "700e2606",
   "metadata": {},
   "outputs": [],
   "source": []
  },
  {
   "cell_type": "markdown",
   "id": "9b9f193a",
   "metadata": {},
   "source": [
    "### Use datetime.strftime() to get names of months and weekdays."
   ]
  },
  {
   "cell_type": "code",
   "execution_count": 17,
   "id": "f11e08a5",
   "metadata": {},
   "outputs": [
    {
     "name": "stdout",
     "output_type": "stream",
     "text": [
      "Sunday\n",
      "Sun, Sunday, November, Nov, 11/06/22\n"
     ]
    }
   ],
   "source": [
    "from datetime import datetime\n",
    "\n",
    "dt3 = datetime.now()\n",
    "\n",
    "print(dt3.strftime('%A'))\n",
    "\n",
    "print(dt3.strftime('%a, %A, %B, %b, %x'))"
   ]
  },
  {
   "cell_type": "markdown",
   "id": "82f87c46",
   "metadata": {},
   "source": [
    "### A timedelta is used for a duration, or the time difference between two dates or times"
   ]
  },
  {
   "cell_type": "markdown",
   "id": "0cdc010c",
   "metadata": {},
   "source": [
    "#### datetime.timedelta(days, seconds, microseconds)\n",
    "\n",
    "#### A time delta can also be multiplied or divided by an integer or float"
   ]
  },
  {
   "cell_type": "code",
   "execution_count": 18,
   "id": "02de0185",
   "metadata": {},
   "outputs": [
    {
     "name": "stdout",
     "output_type": "stream",
     "text": [
      "460 days, 0:00:00 <class 'datetime.timedelta'>\n",
      "39744000.0\n",
      "1380 days, 0:00:00\n"
     ]
    }
   ],
   "source": [
    "from datetime import timedelta, date, time\n",
    "\n",
    "d1 = date(2021, 6, 15)\n",
    "d2 = date(2022, 9, 18)\n",
    "\n",
    "td = d2-d1\n",
    "\n",
    "print(td, type(td))\n",
    "\n",
    "print(td.total_seconds())\n",
    "\n",
    "print(td*3)"
   ]
  },
  {
   "cell_type": "markdown",
   "id": "5a98d14e",
   "metadata": {},
   "source": [
    "#### Number of days to an event :"
   ]
  },
  {
   "cell_type": "code",
   "execution_count": 20,
   "id": "a515f45d",
   "metadata": {},
   "outputs": [
    {
     "name": "stdout",
     "output_type": "stream",
     "text": [
      "224 days to event.\n",
      "224 days, 0:00:00 days to event.\n"
     ]
    }
   ],
   "source": [
    "from datetime import datetime\n",
    "\n",
    "today = datetime.today().date()\n",
    "\n",
    "my_event = date(2023, 6, 18)\n",
    "\n",
    "days_to_event = abs(my_event - today)\n",
    "\n",
    "print(days_to_event.days, 'days to event.')\n",
    "\n",
    "print(days_to_event, 'days to event.')"
   ]
  },
  {
   "cell_type": "code",
   "execution_count": null,
   "id": "3dca2e43",
   "metadata": {},
   "outputs": [],
   "source": []
  },
  {
   "cell_type": "markdown",
   "id": "090dab96",
   "metadata": {},
   "source": [
    "### Get a UNIX timestamp (time since the epoch)"
   ]
  },
  {
   "cell_type": "markdown",
   "id": "430be7d1",
   "metadata": {},
   "source": [
    "#### A timestamp is the time since Jan 1 1970 in seconds.\n",
    "\n",
    "#### Use time.time()to get timestamp.\n",
    "\n",
    "#### Use datetime.fromtimestamp(ts) and datetime.timestamp(datetime_obj) to convert between timestamp and datetime.\n",
    "\n",
    "#### Use time.process_time() to get runtime of an operation on your computer."
   ]
  },
  {
   "cell_type": "code",
   "execution_count": 21,
   "id": "aeebe006",
   "metadata": {},
   "outputs": [
    {
     "name": "stdout",
     "output_type": "stream",
     "text": [
      "1667753317.9555118\n",
      "Sun Nov  6 22:18:37 2022\n"
     ]
    }
   ],
   "source": [
    "import time\n",
    "\n",
    "ts = time.time()\n",
    "\n",
    "print(ts)\n",
    "\n",
    "print(time.ctime(ts))"
   ]
  },
  {
   "cell_type": "code",
   "execution_count": 22,
   "id": "9d71b9a0",
   "metadata": {},
   "outputs": [
    {
     "name": "stdout",
     "output_type": "stream",
     "text": [
      "2022-11-06 22:18:37.955512\n",
      "1667753317.955512\n"
     ]
    }
   ],
   "source": [
    "from datetime import datetime\n",
    "\n",
    "now = datetime.fromtimestamp(ts)\n",
    "\n",
    "print(now)\n",
    "\n",
    "print(datetime.timestamp(now))"
   ]
  },
  {
   "cell_type": "code",
   "execution_count": 23,
   "id": "f58fb0c3",
   "metadata": {},
   "outputs": [],
   "source": [
    "import pandas as pd\n",
    "import numpy as np"
   ]
  },
  {
   "cell_type": "code",
   "execution_count": null,
   "id": "486fd6c5",
   "metadata": {},
   "outputs": [],
   "source": []
  },
  {
   "cell_type": "code",
   "execution_count": 24,
   "id": "ee816006",
   "metadata": {},
   "outputs": [],
   "source": [
    "df = pd.read_csv(\"flight_price_copy.csv\")"
   ]
  },
  {
   "cell_type": "code",
   "execution_count": 25,
   "id": "b51f39a7",
   "metadata": {},
   "outputs": [
    {
     "data": {
      "text/html": [
       "<div>\n",
       "<style scoped>\n",
       "    .dataframe tbody tr th:only-of-type {\n",
       "        vertical-align: middle;\n",
       "    }\n",
       "\n",
       "    .dataframe tbody tr th {\n",
       "        vertical-align: top;\n",
       "    }\n",
       "\n",
       "    .dataframe thead th {\n",
       "        text-align: right;\n",
       "    }\n",
       "</style>\n",
       "<table border=\"1\" class=\"dataframe\">\n",
       "  <thead>\n",
       "    <tr style=\"text-align: right;\">\n",
       "      <th></th>\n",
       "      <th>Unnamed: 0</th>\n",
       "      <th>Date</th>\n",
       "      <th>Flight name</th>\n",
       "      <th>Source</th>\n",
       "      <th>Destination</th>\n",
       "      <th>Departure_time</th>\n",
       "      <th>Arrival_time</th>\n",
       "      <th>Duration</th>\n",
       "      <th>No of stop</th>\n",
       "      <th>Price</th>\n",
       "    </tr>\n",
       "  </thead>\n",
       "  <tbody>\n",
       "    <tr>\n",
       "      <th>0</th>\n",
       "      <td>0</td>\n",
       "      <td>2022-11-03</td>\n",
       "      <td>IndiGo</td>\n",
       "      <td>Bengaluru</td>\n",
       "      <td>Kolkata</td>\n",
       "      <td>17:30</td>\n",
       "      <td>22:05</td>\n",
       "      <td>4h 35m</td>\n",
       "      <td>1</td>\n",
       "      <td>7579</td>\n",
       "    </tr>\n",
       "    <tr>\n",
       "      <th>1</th>\n",
       "      <td>1</td>\n",
       "      <td>2022-11-03</td>\n",
       "      <td>IndiGo</td>\n",
       "      <td>Bengaluru</td>\n",
       "      <td>Kolkata</td>\n",
       "      <td>23:40</td>\n",
       "      <td>04:50</td>\n",
       "      <td>5h 10m</td>\n",
       "      <td>1</td>\n",
       "      <td>7579</td>\n",
       "    </tr>\n",
       "    <tr>\n",
       "      <th>2</th>\n",
       "      <td>2</td>\n",
       "      <td>2022-11-03</td>\n",
       "      <td>IndiGo</td>\n",
       "      <td>Bengaluru</td>\n",
       "      <td>Kolkata</td>\n",
       "      <td>18:00</td>\n",
       "      <td>23:15</td>\n",
       "      <td>5h 15m</td>\n",
       "      <td>1</td>\n",
       "      <td>7579</td>\n",
       "    </tr>\n",
       "    <tr>\n",
       "      <th>3</th>\n",
       "      <td>3</td>\n",
       "      <td>2022-11-03</td>\n",
       "      <td>IndiGo</td>\n",
       "      <td>Bengaluru</td>\n",
       "      <td>Kolkata</td>\n",
       "      <td>19:15</td>\n",
       "      <td>02:05</td>\n",
       "      <td>6h 50m</td>\n",
       "      <td>1</td>\n",
       "      <td>7579</td>\n",
       "    </tr>\n",
       "    <tr>\n",
       "      <th>4</th>\n",
       "      <td>4</td>\n",
       "      <td>2022-11-03</td>\n",
       "      <td>IndiGo</td>\n",
       "      <td>Bengaluru</td>\n",
       "      <td>Kolkata</td>\n",
       "      <td>15:35</td>\n",
       "      <td>22:55</td>\n",
       "      <td>7h 20m</td>\n",
       "      <td>1</td>\n",
       "      <td>7579</td>\n",
       "    </tr>\n",
       "  </tbody>\n",
       "</table>\n",
       "</div>"
      ],
      "text/plain": [
       "   Unnamed: 0        Date Flight name     Source Destination Departure_time  \\\n",
       "0           0  2022-11-03      IndiGo  Bengaluru     Kolkata          17:30   \n",
       "1           1  2022-11-03      IndiGo  Bengaluru     Kolkata          23:40   \n",
       "2           2  2022-11-03      IndiGo  Bengaluru     Kolkata          18:00   \n",
       "3           3  2022-11-03      IndiGo  Bengaluru     Kolkata          19:15   \n",
       "4           4  2022-11-03      IndiGo  Bengaluru     Kolkata          15:35   \n",
       "\n",
       "  Arrival_time Duration No of stop  Price  \n",
       "0        22:05   4h 35m          1   7579  \n",
       "1        04:50   5h 10m          1   7579  \n",
       "2        23:15   5h 15m          1   7579  \n",
       "3        02:05   6h 50m          1   7579  \n",
       "4        22:55   7h 20m          1   7579  "
      ]
     },
     "execution_count": 25,
     "metadata": {},
     "output_type": "execute_result"
    }
   ],
   "source": [
    "df.head()"
   ]
  },
  {
   "cell_type": "code",
   "execution_count": null,
   "id": "89102585",
   "metadata": {},
   "outputs": [],
   "source": [
    "df[\"Departure_time\"] = pd.to_datetime(df[\"Departure_time\"])"
   ]
  },
  {
   "cell_type": "code",
   "execution_count": 27,
   "id": "5446e093",
   "metadata": {},
   "outputs": [],
   "source": [
    "t = pd.to_timedelta(df['Duration'])\n",
    "\n",
    "df['Dur_hrs']=t.dt.components['hours']\n",
    "df['Dur_mins']=t.dt.components['minutes']"
   ]
  },
  {
   "cell_type": "code",
   "execution_count": 28,
   "id": "e361b171",
   "metadata": {},
   "outputs": [
    {
     "data": {
      "text/html": [
       "<div>\n",
       "<style scoped>\n",
       "    .dataframe tbody tr th:only-of-type {\n",
       "        vertical-align: middle;\n",
       "    }\n",
       "\n",
       "    .dataframe tbody tr th {\n",
       "        vertical-align: top;\n",
       "    }\n",
       "\n",
       "    .dataframe thead th {\n",
       "        text-align: right;\n",
       "    }\n",
       "</style>\n",
       "<table border=\"1\" class=\"dataframe\">\n",
       "  <thead>\n",
       "    <tr style=\"text-align: right;\">\n",
       "      <th></th>\n",
       "      <th>Unnamed: 0</th>\n",
       "      <th>Date</th>\n",
       "      <th>Flight name</th>\n",
       "      <th>Source</th>\n",
       "      <th>Destination</th>\n",
       "      <th>Departure_time</th>\n",
       "      <th>Arrival_time</th>\n",
       "      <th>Duration</th>\n",
       "      <th>No of stop</th>\n",
       "      <th>Price</th>\n",
       "      <th>Dur_hrs</th>\n",
       "      <th>Dur_mins</th>\n",
       "    </tr>\n",
       "  </thead>\n",
       "  <tbody>\n",
       "    <tr>\n",
       "      <th>0</th>\n",
       "      <td>0</td>\n",
       "      <td>2022-11-03</td>\n",
       "      <td>IndiGo</td>\n",
       "      <td>Bengaluru</td>\n",
       "      <td>Kolkata</td>\n",
       "      <td>17:30</td>\n",
       "      <td>22:05</td>\n",
       "      <td>4h 35m</td>\n",
       "      <td>1</td>\n",
       "      <td>7579</td>\n",
       "      <td>4</td>\n",
       "      <td>35</td>\n",
       "    </tr>\n",
       "    <tr>\n",
       "      <th>1</th>\n",
       "      <td>1</td>\n",
       "      <td>2022-11-03</td>\n",
       "      <td>IndiGo</td>\n",
       "      <td>Bengaluru</td>\n",
       "      <td>Kolkata</td>\n",
       "      <td>23:40</td>\n",
       "      <td>04:50</td>\n",
       "      <td>5h 10m</td>\n",
       "      <td>1</td>\n",
       "      <td>7579</td>\n",
       "      <td>5</td>\n",
       "      <td>10</td>\n",
       "    </tr>\n",
       "    <tr>\n",
       "      <th>2</th>\n",
       "      <td>2</td>\n",
       "      <td>2022-11-03</td>\n",
       "      <td>IndiGo</td>\n",
       "      <td>Bengaluru</td>\n",
       "      <td>Kolkata</td>\n",
       "      <td>18:00</td>\n",
       "      <td>23:15</td>\n",
       "      <td>5h 15m</td>\n",
       "      <td>1</td>\n",
       "      <td>7579</td>\n",
       "      <td>5</td>\n",
       "      <td>15</td>\n",
       "    </tr>\n",
       "  </tbody>\n",
       "</table>\n",
       "</div>"
      ],
      "text/plain": [
       "   Unnamed: 0        Date Flight name     Source Destination Departure_time  \\\n",
       "0           0  2022-11-03      IndiGo  Bengaluru     Kolkata          17:30   \n",
       "1           1  2022-11-03      IndiGo  Bengaluru     Kolkata          23:40   \n",
       "2           2  2022-11-03      IndiGo  Bengaluru     Kolkata          18:00   \n",
       "\n",
       "  Arrival_time Duration No of stop  Price  Dur_hrs  Dur_mins  \n",
       "0        22:05   4h 35m          1   7579        4        35  \n",
       "1        04:50   5h 10m          1   7579        5        10  \n",
       "2        23:15   5h 15m          1   7579        5        15  "
      ]
     },
     "execution_count": 28,
     "metadata": {},
     "output_type": "execute_result"
    }
   ],
   "source": [
    "df.head(3)"
   ]
  },
  {
   "cell_type": "code",
   "execution_count": null,
   "id": "05142717",
   "metadata": {},
   "outputs": [],
   "source": []
  },
  {
   "cell_type": "code",
   "execution_count": null,
   "id": "b5629bc3",
   "metadata": {},
   "outputs": [],
   "source": []
  }
 ],
 "metadata": {
  "kernelspec": {
   "display_name": "Python 3 (ipykernel)",
   "language": "python",
   "name": "python3"
  },
  "language_info": {
   "codemirror_mode": {
    "name": "ipython",
    "version": 3
   },
   "file_extension": ".py",
   "mimetype": "text/x-python",
   "name": "python",
   "nbconvert_exporter": "python",
   "pygments_lexer": "ipython3",
   "version": "3.9.12"
  }
 },
 "nbformat": 4,
 "nbformat_minor": 5
}
